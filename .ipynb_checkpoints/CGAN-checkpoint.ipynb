{
 "cells": [
  {
   "cell_type": "code",
   "execution_count": 1,
   "id": "90d9f42f",
   "metadata": {},
   "outputs": [
    {
     "name": "stdout",
     "output_type": "stream",
     "text": [
      "WARNING:tensorflow:From C:\\Users\\Raoul\\anaconda3\\Lib\\site-packages\\keras\\src\\losses.py:2976: The name tf.losses.sparse_softmax_cross_entropy is deprecated. Please use tf.compat.v1.losses.sparse_softmax_cross_entropy instead.\n",
      "\n"
     ]
    }
   ],
   "source": [
    "import tensorflow as tf\n",
    "from tensorflow.keras.layers import Input, Dense, Reshape, Flatten, Dropout, Multiply, BatchNormalization, LeakyReLU, Embedding\n",
    "from tensorflow.keras.models import Model\n",
    "from tensorflow.keras.optimizers import Adam\n",
    "from tensorflow.keras.datasets import mnist\n"
   ]
  },
  {
   "cell_type": "code",
   "execution_count": 2,
   "id": "e2f2c850",
   "metadata": {},
   "outputs": [],
   "source": [
    "(X_train, y_train), (_, _) = mnist.load_data()\n",
    "# Normalize data to [-1, 1]\n",
    "X_train = (X_train.astype('float32') - 127.5) / 127.5\n",
    "X_train = X_train.reshape(X_train.shape[0], 784) # Flatten images for the MLP\n",
    "\n"
   ]
  },
  {
   "cell_type": "code",
   "execution_count": 3,
   "id": "a6534626",
   "metadata": {},
   "outputs": [],
   "source": [
    "def build_generator(latent_dim, num_classes=10):\n",
    "    # Latent input and label\n",
    "    latent = Input(shape=(latent_dim,))\n",
    "    image_class = Input(shape=(1,), dtype='int32')\n",
    "    \n",
    "    # Embedding for categorical input\n",
    "    cls = Embedding(num_classes, latent_dim)(image_class)\n",
    "    cls = Flatten()(cls)\n",
    "    model_input = Multiply()([latent, cls])\n",
    "\n",
    "    # Generator network\n",
    "    x = Dense(256)(model_input)\n",
    "    x = LeakyReLU(alpha=0.2)(x)\n",
    "    x = BatchNormalization(momentum=0.8)(x)\n",
    "    x = Dense(512)(x)\n",
    "    x = LeakyReLU(alpha=0.2)(x)\n",
    "    x = BatchNormalization(momentum=0.8)(x)\n",
    "    x = Dense(1024)(x)\n",
    "    x = LeakyReLU(alpha=0.2)(x)\n",
    "    x = BatchNormalization(momentum=0.8)(x)\n",
    "    x = Dense(784, activation='tanh')(x)\n",
    "    out = Reshape((28, 28))(x)\n",
    "\n",
    "    # Model definition\n",
    "    model = Model([latent, image_class], out)\n",
    "    return model\n",
    "\n"
   ]
  },
  {
   "cell_type": "code",
   "execution_count": 4,
   "id": "3504a480",
   "metadata": {},
   "outputs": [],
   "source": [
    "def build_discriminator(num_classes=10):\n",
    "    img = Input(shape=(28, 28))\n",
    "    img_class = Input(shape=(1,), dtype='int32')\n",
    "    \n",
    "    # Embedding for categorical input\n",
    "    cls = Embedding(num_classes, 784)(img_class)\n",
    "    cls = Flatten()(cls)\n",
    "    flat_img = Flatten()(img)\n",
    "\n",
    "    # Merged model by multiplying\n",
    "    model_input = Multiply()([flat_img, cls])\n",
    "\n",
    "    x = Dense(512)(model_input)\n",
    "    x = LeakyReLU(alpha=0.2)(x)\n",
    "    x = Dense(256)(x)\n",
    "    x = LeakyReLU(alpha=0.2)(x)\n",
    "    validity = Dense(1, activation='sigmoid')(x)\n",
    "\n",
    "    # Model definition\n",
    "    model = Model([img, img_class], validity)\n",
    "    return model\n"
   ]
  },
  {
   "cell_type": "code",
   "execution_count": 5,
   "id": "a9169d5c",
   "metadata": {},
   "outputs": [],
   "source": [
    "def build_cgan(generator, discriminator):\n",
    "    z_dim = 100\n",
    "    num_classes = 10\n",
    "    discriminator.compile(loss='binary_crossentropy', optimizer=Adam(0.0002, 0.5), metrics=['accuracy'])\n",
    "    discriminator.trainable = False\n",
    "\n",
    "    z = Input(shape=(z_dim,))\n",
    "    label = Input(shape=(1,))\n",
    "    img = generator([z, label])\n",
    "    valid = discriminator([img, label])\n",
    "\n",
    "    cgan = Model([z, label], valid)\n",
    "    cgan.compile(loss='binary_crossentropy', optimizer=Adam(0.0002, 0.5))\n",
    "    return cgan\n"
   ]
  },
  {
   "cell_type": "code",
   "execution_count": 6,
   "id": "64416f1f",
   "metadata": {},
   "outputs": [],
   "source": [
    "import numpy as np\n",
    "import matplotlib.pyplot as plt\n",
    "import os\n",
    "\n",
    "if not os.path.exists('images'):\n",
    "    os.makedirs('images')\n",
    "if not os.path.exists('models'):\n",
    "    os.makedirs('models')\n",
    "    \n",
    "for x in range(10):\n",
    "    if not os.path.exists(f'images/{x}'):\n",
    "        os.makedirs(f'images/{x}')\n",
    "\n",
    "def sample_images(generator, epoch, z_dim, num_classes=10):\n",
    "    r, c = 2, 5\n",
    "    noise = np.random.normal(0, 1, (r * c, z_dim))\n",
    "    sampled_labels = np.arange(0, 10).reshape(-1, 1)\n",
    "    gen_imgs = generator.predict([noise, sampled_labels])\n",
    "\n",
    "    # Rescale images from [-1, 1] to [0, 1]\n",
    "    gen_imgs = 0.5 * gen_imgs + 0.5\n",
    "    \n",
    "    for i in range(gen_imgs.shape[0]):\n",
    "        plt.imsave(f'images/{i}/epoch_{epoch}.png', gen_imgs[i, :, :], cmap='gray')\n",
    "\n",
    "    fig, axs = plt.subplots(r, c, figsize=(10, 4))\n",
    "    cnt = 0\n",
    "    for i in range(r):\n",
    "        for j in range(c):\n",
    "            axs[i, j].imshow(gen_imgs[cnt], cmap='gray')  # Adjusted indexing here\n",
    "            axs[i, j].axis('off')\n",
    "            axs[i, j].set_title(f\"Digit: {sampled_labels[cnt][0]}\")  # Ensuring labels are properly shown\n",
    "            cnt += 1\n",
    "    plt.show()\n"
   ]
  },
  {
   "cell_type": "code",
   "execution_count": 7,
   "id": "6fdbe5ca",
   "metadata": {},
   "outputs": [],
   "source": [
    "def train(generator, discriminator, cgan, epochs, batch_size=128, save_interval=50):\n",
    "    # Load and preprocess data\n",
    "    (X_train, y_train), (_, _) = mnist.load_data()\n",
    "    X_train = (X_train.astype('float32') - 127.5) / 127.5\n",
    "    X_train = X_train.reshape(X_train.shape[0], 28, 28)  # Flatten images\n",
    "\n",
    "    half_batch = int(batch_size / 2)\n",
    "    z_dim = 100\n",
    "    \n",
    "\n",
    "    for epoch in range(epochs):\n",
    "        # Select a random half batch of images\n",
    "        idx = np.random.randint(0, X_train.shape[0], half_batch)\n",
    "        imgs, labels = X_train[idx], y_train[idx]\n",
    "        imgs = imgs.reshape(-1, 28, 28)  # Ensure images are flattened\n",
    "        print(imgs.shape)\n",
    "        labels = labels.reshape(-1, 1)  # Ensure labels are in the correct shape\n",
    "\n",
    "        noise = np.random.normal(0, 1, (half_batch, z_dim))\n",
    "        gen_imgs = generator.predict([noise, labels])\n",
    "\n",
    "        # Train on real and generated data\n",
    "        d_loss_real = discriminator.train_on_batch([imgs, labels], np.ones((half_batch, 1)))\n",
    "        d_loss_fake = discriminator.train_on_batch([gen_imgs, labels], np.zeros((half_batch, 1)))\n",
    "        d_loss = 0.5 * np.add(d_loss_real, d_loss_fake)\n",
    "\n",
    "        # Training the generator\n",
    "        noise = np.random.normal(0, 1, (batch_size, z_dim))\n",
    "        sampled_labels = np.random.randint(0, 10, batch_size).reshape(-1, 1)\n",
    "        valid_y = np.array([1] * batch_size)\n",
    "\n",
    "        # Train the generator\n",
    "        g_loss = cgan.train_on_batch([noise, sampled_labels], valid_y)\n",
    "\n",
    "        # Output training status\n",
    "        if epoch % save_interval == 0:\n",
    "            print(f\"Epoch {epoch} [D loss: {d_loss[0]}, acc.: {100 * d_loss[1]}%] [G loss: {g_loss}]\")\n",
    "            sample_images(generator, epoch, z_dim)\n"
   ]
  },
  {
   "cell_type": "code",
   "execution_count": 8,
   "id": "5f33dd1c",
   "metadata": {},
   "outputs": [
    {
     "name": "stdout",
     "output_type": "stream",
     "text": [
      "WARNING:tensorflow:From C:\\Users\\Raoul\\anaconda3\\Lib\\site-packages\\keras\\src\\backend.py:1398: The name tf.executing_eagerly_outside_functions is deprecated. Please use tf.compat.v1.executing_eagerly_outside_functions instead.\n",
      "\n",
      "(16, 28, 28)\n",
      "1/1 [==============================] - 0s 202ms/step\n",
      "WARNING:tensorflow:From C:\\Users\\Raoul\\anaconda3\\Lib\\site-packages\\keras\\src\\utils\\tf_utils.py:492: The name tf.ragged.RaggedTensorValue is deprecated. Please use tf.compat.v1.ragged.RaggedTensorValue instead.\n",
      "\n",
      "WARNING:tensorflow:From C:\\Users\\Raoul\\anaconda3\\Lib\\site-packages\\keras\\src\\engine\\base_layer_utils.py:384: The name tf.executing_eagerly_outside_functions is deprecated. Please use tf.compat.v1.executing_eagerly_outside_functions instead.\n",
      "\n",
      "Epoch 0 [D loss: 0.6890873312950134, acc.: 43.75%] [G loss: 0.6798433065414429]\n",
      "1/1 [==============================] - 0s 256ms/step\n"
     ]
    },
    {
     "data": {
      "image/png": "[encoded data removed]",
      "text/plain": [
       "<Figure size 1000x400 with 10 Axes>"
      ]
     },
     "metadata": {},
     "output_type": "display_data"
    },
    {
     "name": "stdout",
     "output_type": "stream",
     "text": [
      "(16, 28, 28)\n",
      "1/1 [==============================] - 0s 20ms/step\n",
      "(16, 28, 28)\n",
      "1/1 [==============================] - 0s 20ms/step\n",
      "(16, 28, 28)\n",
      "1/1 [==============================] - 0s 20ms/step\n",
      "(16, 28, 28)\n",
      "1/1 [==============================] - 0s 19ms/step\n",
      "(16, 28, 28)\n",
      "1/1 [==============================] - 0s 20ms/step\n",
      "(16, 28, 28)\n",
      "1/1 [==============================] - 0s 20ms/step\n",
      "(16, 28, 28)\n",
      "1/1 [==============================] - 0s 23ms/step\n",
      "(16, 28, 28)\n",
      "1/1 [==============================] - 0s 19ms/step\n",
      "(16, 28, 28)\n",
      "1/1 [==============================] - 0s 19ms/step\n",
      "(16, 28, 28)\n",
      "1/1 [==============================] - 0s 20ms/step\n",
      "(16, 28, 28)\n",
      "1/1 [==============================] - 0s 21ms/step\n",
      "(16, 28, 28)\n",
      "1/1 [==============================] - 0s 20ms/step\n",
      "(16, 28, 28)\n",
      "1/1 [==============================] - 0s 20ms/step\n",
      "(16, 28, 28)\n",
      "1/1 [==============================] - 0s 20ms/step\n",
      "(16, 28, 28)\n",
      "1/1 [==============================] - 0s 19ms/step\n",
      "(16, 28, 28)\n",
      "1/1 [==============================] - 0s 20ms/step\n",
      "(16, 28, 28)\n",
      "1/1 [==============================] - 0s 19ms/step\n",
      "(16, 28, 28)\n",
      "1/1 [==============================] - 0s 19ms/step\n",
      "(16, 28, 28)\n",
      "1/1 [==============================] - 0s 19ms/step\n",
      "(16, 28, 28)\n",
      "1/1 [==============================] - 0s 19ms/step\n"
     ]
    },
    {
     "ename": "KeyboardInterrupt",
     "evalue": "",
     "output_type": "error",
     "traceback": [
      "\u001b[1;31m---------------------------------------------------------------------------\u001b[0m",
      "\u001b[1;31mKeyboardInterrupt\u001b[0m                         Traceback (most recent call last)",
      "Cell \u001b[1;32mIn[8], line 6\u001b[0m\n\u001b[0;32m      3\u001b[0m discriminator \u001b[38;5;241m=\u001b[39m build_discriminator()\n\u001b[0;32m      4\u001b[0m cgan \u001b[38;5;241m=\u001b[39m build_cgan(generator, discriminator)\n\u001b[1;32m----> 6\u001b[0m train(generator, discriminator, cgan, epochs\u001b[38;5;241m=\u001b[39m\u001b[38;5;241m30000\u001b[39m, batch_size\u001b[38;5;241m=\u001b[39m\u001b[38;5;241m32\u001b[39m, save_interval\u001b[38;5;241m=\u001b[39m\u001b[38;5;241m1000\u001b[39m)\n",
      "Cell \u001b[1;32mIn[7], line 24\u001b[0m, in \u001b[0;36mtrain\u001b[1;34m(generator, discriminator, cgan, epochs, batch_size, save_interval)\u001b[0m\n\u001b[0;32m     22\u001b[0m \u001b[38;5;66;03m# Train on real and generated data\u001b[39;00m\n\u001b[0;32m     23\u001b[0m d_loss_real \u001b[38;5;241m=\u001b[39m discriminator\u001b[38;5;241m.\u001b[39mtrain_on_batch([imgs, labels], np\u001b[38;5;241m.\u001b[39mones((half_batch, \u001b[38;5;241m1\u001b[39m)))\n\u001b[1;32m---> 24\u001b[0m d_loss_fake \u001b[38;5;241m=\u001b[39m discriminator\u001b[38;5;241m.\u001b[39mtrain_on_batch([gen_imgs, labels], np\u001b[38;5;241m.\u001b[39mzeros((half_batch, \u001b[38;5;241m1\u001b[39m)))\n\u001b[0;32m     25\u001b[0m d_loss \u001b[38;5;241m=\u001b[39m \u001b[38;5;241m0.5\u001b[39m \u001b[38;5;241m*\u001b[39m np\u001b[38;5;241m.\u001b[39madd(d_loss_real, d_loss_fake)\n\u001b[0;32m     27\u001b[0m \u001b[38;5;66;03m# Training the generator\u001b[39;00m\n",
      "\u001b[1;31mKeyboardInterrupt\u001b[0m: "
     ]
    }
   ],
   "source": [
    "latent_dim = 100\n",
    "generator = build_generator(latent_dim)\n",
    "discriminator = build_discriminator()\n",
    "cgan = build_cgan(generator, discriminator)\n",
    "\n",
    "train(generator, discriminator, cgan, epochs=30000, batch_size=32, save_interval=1000)"
   ]
  },
  {
   "cell_type": "code",
   "execution_count": null,
   "id": "1eb35e29",
   "metadata": {},
   "outputs": [],
   "source": []
  },
  {
   "cell_type": "code",
   "execution_count": null,
   "id": "aadb0a22",
   "metadata": {},
   "outputs": [],
   "source": []
  }
 ],
 "metadata": {
  "kernelspec": {
   "display_name": "Python 3 (ipykernel)",
   "language": "python",
   "name": "python3"
  },
  "language_info": {
   "codemirror_mode": {
    "name": "ipython",
    "version": 3
   },
   "file_extension": ".py",
   "mimetype": "text/x-python",
   "name": "python",
   "nbconvert_exporter": "python",
   "pygments_lexer": "ipython3",
   "version": "3.11.5"
  }
 },
 "nbformat": 4,
 "nbformat_minor": 5
}
